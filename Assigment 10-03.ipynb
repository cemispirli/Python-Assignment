{
 "cells": [
  {
   "cell_type": "code",
   "execution_count": null,
   "id": "03a11c3b",
   "metadata": {},
   "outputs": [],
   "source": [
    "sayı = int(input(\"Enter a number: \"))\n",
    "x = len(str(sayı))\n",
    "y = 0\n",
    "\n",
    "i = sayı\n",
    "while i > 0:\n",
    "   a = i % 10\n",
    "   y += a ** x\n",
    "   i //= 10\n",
    "\n",
    "if sayı == y:\n",
    "   print(sayı,\"is an Armstrong number\")\n",
    "else:\n",
    "   print(sayı,\"is not an Armstrong number\")"
   ]
  }
 ],
 "metadata": {
  "kernelspec": {
   "display_name": "Python 3",
   "language": "python",
   "name": "python3"
  },
  "language_info": {
   "codemirror_mode": {
    "name": "ipython",
    "version": 3
   },
   "file_extension": ".py",
   "mimetype": "text/x-python",
   "name": "python",
   "nbconvert_exporter": "python",
   "pygments_lexer": "ipython3",
   "version": "3.8.8"
  }
 },
 "nbformat": 4,
 "nbformat_minor": 5
}
