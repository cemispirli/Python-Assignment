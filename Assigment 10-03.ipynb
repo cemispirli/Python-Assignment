{
 "cells": [
  {
   "cell_type": "code",
   "execution_count": null,
   "id": "03a11c3b",
   "metadata": {},
   "outputs": [],
   "source": [
    "a = input(\"Enter a number: \")\n",
    "if a.isdigit() and int(a) > 0 :\n",
    "    sayı = int(a)\n",
    "    x = len(str(sayı))\n",
    "    y = 0\n",
    "    i = sayı\n",
    "    \n",
    "    while i > 0:\n",
    "       a = i % 10\n",
    "       y += a ** x\n",
    "       i //= 10\n",
    "    if sayı == y:\n",
    "       print(sayı,\"is an Armstrong number\")\n",
    "    else:\n",
    "       print(sayı,\"is not an Armstrong number\")\n",
    "else:\n",
    "    print(\"It is an invalid entry. Don't use non-numeric, float, or negative values!\")"
   ]
  }
 ],
 "metadata": {
  "kernelspec": {
   "display_name": "Python 3",
   "language": "python",
   "name": "python3"
  },
  "language_info": {
   "codemirror_mode": {
    "name": "ipython",
    "version": 3
   },
   "file_extension": ".py",
   "mimetype": "text/x-python",
   "name": "python",
   "nbconvert_exporter": "python",
   "pygments_lexer": "ipython3",
   "version": "3.8.8"
  }
 },
 "nbformat": 4,
 "nbformat_minor": 5
}
