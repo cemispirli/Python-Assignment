{
 "cells": [
  {
   "cell_type": "code",
   "execution_count": null,
   "id": "1d848cf3",
   "metadata": {},
   "outputs": [],
   "source": [
    "ad = \"Joseph\"\n",
    "sifre = \"w@12\"\n",
    "input_ad = input(\"Please enter name: \").title()\n",
    "if input_ad == ad :\n",
    "  print(f\"Hello, {ad}! The password is : {sifre}\")\n",
    "else:\n",
    "  print(f\"Hello, {input_ad}! See you later.\")"
   ]
  }
 ],
 "metadata": {
  "kernelspec": {
   "display_name": "Python 3",
   "language": "python",
   "name": "python3"
  },
  "language_info": {
   "codemirror_mode": {
    "name": "ipython",
    "version": 3
   },
   "file_extension": ".py",
   "mimetype": "text/x-python",
   "name": "python",
   "nbconvert_exporter": "python",
   "pygments_lexer": "ipython3",
   "version": "3.8.8"
  }
 },
 "nbformat": 4,
 "nbformat_minor": 5
}
